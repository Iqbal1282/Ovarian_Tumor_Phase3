{
 "cells": [
  {
   "cell_type": "code",
   "execution_count": 1,
   "id": "acb2616e",
   "metadata": {},
   "outputs": [],
   "source": [
    "import pandas as pd"
   ]
  },
  {
   "cell_type": "code",
   "execution_count": null,
   "id": "c7f7f3c0",
   "metadata": {},
   "outputs": [],
   "source": [
    "df = pd.read_csv(r'data\\OTU_2d\\train_cls.txt', sep )"
   ]
  },
  {
   "cell_type": "code",
   "execution_count": 6,
   "id": "2716619c",
   "metadata": {},
   "outputs": [
    {
     "data": {
      "text/html": [
       "<div>\n",
       "<style scoped>\n",
       "    .dataframe tbody tr th:only-of-type {\n",
       "        vertical-align: middle;\n",
       "    }\n",
       "\n",
       "    .dataframe tbody tr th {\n",
       "        vertical-align: top;\n",
       "    }\n",
       "\n",
       "    .dataframe thead th {\n",
       "        text-align: right;\n",
       "    }\n",
       "</style>\n",
       "<table border=\"1\" class=\"dataframe\">\n",
       "  <thead>\n",
       "    <tr style=\"text-align: right;\">\n",
       "      <th></th>\n",
       "      <th>658.JPG  5</th>\n",
       "    </tr>\n",
       "  </thead>\n",
       "  <tbody>\n",
       "    <tr>\n",
       "      <th>0</th>\n",
       "      <td>384.JPG  3</td>\n",
       "    </tr>\n",
       "    <tr>\n",
       "      <th>1</th>\n",
       "      <td>367.JPG  3</td>\n",
       "    </tr>\n",
       "    <tr>\n",
       "      <th>2</th>\n",
       "      <td>730.JPG  1</td>\n",
       "    </tr>\n",
       "    <tr>\n",
       "      <th>3</th>\n",
       "      <td>1426.JPG  7</td>\n",
       "    </tr>\n",
       "    <tr>\n",
       "      <th>4</th>\n",
       "      <td>1194.JPG  6</td>\n",
       "    </tr>\n",
       "  </tbody>\n",
       "</table>\n",
       "</div>"
      ],
      "text/plain": [
       "    658.JPG  5\n",
       "0   384.JPG  3\n",
       "1   367.JPG  3\n",
       "2   730.JPG  1\n",
       "3  1426.JPG  7\n",
       "4  1194.JPG  6"
      ]
     },
     "execution_count": 6,
     "metadata": {},
     "output_type": "execute_result"
    }
   ],
   "source": [
    "df.head()"
   ]
  },
  {
   "cell_type": "code",
   "execution_count": 8,
   "id": "7ac858d1",
   "metadata": {},
   "outputs": [
    {
     "name": "stdout",
     "output_type": "stream",
     "text": [
      "('1269.JPG', 5)\n",
      "('1458.JPG', 7)\n",
      "('700.JPG', 6)\n",
      "('264.JPG', 2)\n",
      "('1017.JPG', 2)\n"
     ]
    }
   ],
   "source": [
    "file_path = r\"data\\OTU_2d\\val_cls.txt\"\n",
    "\n",
    "# Read the file into a list of (filename, label) tuples\n",
    "with open(file_path, \"r\") as f:\n",
    "    data = [line.strip().split() for line in f]\n",
    "\n",
    "# Convert to a more structured format\n",
    "file_label_pairs = [(filename, int(label)) for filename, label in data]\n",
    "\n",
    "# Example: print first 5 entries\n",
    "for i in range(5):\n",
    "    print(file_label_pairs[i])"
   ]
  }
 ],
 "metadata": {
  "kernelspec": {
   "display_name": "iqbal",
   "language": "python",
   "name": "python3"
  },
  "language_info": {
   "codemirror_mode": {
    "name": "ipython",
    "version": 3
   },
   "file_extension": ".py",
   "mimetype": "text/x-python",
   "name": "python",
   "nbconvert_exporter": "python",
   "pygments_lexer": "ipython3",
   "version": "3.9.18"
  }
 },
 "nbformat": 4,
 "nbformat_minor": 5
}
